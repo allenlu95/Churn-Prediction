{
 "cells": [
  {
   "cell_type": "code",
   "execution_count": 1,
   "metadata": {},
   "outputs": [
    {
     "data": {
      "text/html": [
       "<style>.container { width:100% !important; }</style>"
      ],
      "text/plain": [
       "<IPython.core.display.HTML object>"
      ]
     },
     "metadata": {},
     "output_type": "display_data"
    }
   ],
   "source": [
    "from IPython.core.display import display, HTML\n",
    "display(HTML(\"<style>.container { width:100% !important; }</style>\"))"
   ]
  },
  {
   "cell_type": "code",
   "execution_count": 2,
   "metadata": {
    "collapsed": true
   },
   "outputs": [],
   "source": [
    "from __future__ import division, print_function, unicode_literals\n",
    "import pandas as pd\n",
    "from pandas.plotting import scatter_matrix\n",
    "import datetime\n",
    "import matplotlib.pyplot as plt\n",
    "from sklearn.ensemble import RandomForestClassifier\n",
    "import pandas as pd\n",
    "import numpy as np\n",
    "import matplotlib.pyplot as plt\n",
    "# from sklearn.model_selection import train_test_split, cross_val_score, cross_validate\n",
    "from sklearn.metrics import confusion_matrix, precision_score, recall_score, f1_score\n",
    "from sklearn.linear_model import LogisticRegression\n",
    "from sklearn.tree import DecisionTreeClassifier\n",
    "from sklearn.preprocessing import Imputer\n",
    "import seaborn as sns\n",
    "%matplotlib inline"
   ]
  },
  {
   "cell_type": "markdown",
   "metadata": {},
   "source": [
    "# Creating predictor variable, and cleaning our data"
   ]
  },
  {
   "cell_type": "code",
   "execution_count": 138,
   "metadata": {
    "collapsed": true
   },
   "outputs": [],
   "source": [
    "def get_labels(df):\n",
    "    df['last_trip_date'] = pd.to_datetime(df['last_trip_date'])\n",
    "    df['signup_date'] = pd.to_datetime(df['signup_date'])\n",
    "    cutoff_date = datetime.date(2014, 6, 1)\n",
    "    df[df['last_trip_date'] < cutoff_date]\n",
    "    df['churn'] = (df['last_trip_date'] < cutoff_date).astype(int)\n",
    "    df['recent'] = (cutoff_date-df['signup_date']).apply(lambda x: pd.Timedelta(x).days)\n",
    "    return df\n",
    "def fill_na(df):\n",
    "    impute = Imputer()\n",
    "    df['filled_by_driver'] = df['avg_rating_by_driver'].isnull().astype(int)\n",
    "    df['filled_of_driver'] = df['avg_rating_of_driver'].isnull().astype(int)\n",
    "    df[['avg_rating_by_driver','avg_rating_of_driver']] = impute.fit_transform(df[['avg_rating_by_driver','avg_rating_of_driver']]) \n",
    "    df['phone_fill'] = df['phone'].isnull().astype(int)\n",
    "    df = df.fillna(method='ffill')\n",
    "    return df\n",
    "def remove_error(df):\n",
    "    df = df[(df['avg_dist']!=0) | (df['trips_in_first_30_days']==0)]\n",
    "    df = pd.get_dummies(df,drop_first=True)\n",
    "    return df"
   ]
  },
  {
   "cell_type": "code",
   "execution_count": 139,
   "metadata": {},
   "outputs": [
    {
     "data": {
      "text/html": [
       "<div>\n",
       "<style>\n",
       "    .dataframe thead tr:only-child th {\n",
       "        text-align: right;\n",
       "    }\n",
       "\n",
       "    .dataframe thead th {\n",
       "        text-align: left;\n",
       "    }\n",
       "\n",
       "    .dataframe tbody tr th {\n",
       "        vertical-align: top;\n",
       "    }\n",
       "</style>\n",
       "<table border=\"1\" class=\"dataframe\">\n",
       "  <thead>\n",
       "    <tr style=\"text-align: right;\">\n",
       "      <th></th>\n",
       "      <th>avg_dist</th>\n",
       "      <th>avg_rating_by_driver</th>\n",
       "      <th>avg_rating_of_driver</th>\n",
       "      <th>avg_surge</th>\n",
       "      <th>surge_pct</th>\n",
       "      <th>trips_in_first_30_days</th>\n",
       "      <th>luxury_car_user</th>\n",
       "      <th>weekday_pct</th>\n",
       "      <th>churn</th>\n",
       "      <th>recent</th>\n",
       "      <th>filled_by_driver</th>\n",
       "      <th>filled_of_driver</th>\n",
       "      <th>phone_fill</th>\n",
       "      <th>city_King's Landing</th>\n",
       "      <th>city_Winterfell</th>\n",
       "      <th>phone_iPhone</th>\n",
       "    </tr>\n",
       "  </thead>\n",
       "  <tbody>\n",
       "    <tr>\n",
       "      <th>0</th>\n",
       "      <td>6.94</td>\n",
       "      <td>5.0</td>\n",
       "      <td>5.000000</td>\n",
       "      <td>1.00</td>\n",
       "      <td>0.0</td>\n",
       "      <td>0</td>\n",
       "      <td>False</td>\n",
       "      <td>100.0</td>\n",
       "      <td>1</td>\n",
       "      <td>140</td>\n",
       "      <td>0</td>\n",
       "      <td>0</td>\n",
       "      <td>0</td>\n",
       "      <td>0</td>\n",
       "      <td>0</td>\n",
       "      <td>0</td>\n",
       "    </tr>\n",
       "    <tr>\n",
       "      <th>1</th>\n",
       "      <td>8.06</td>\n",
       "      <td>5.0</td>\n",
       "      <td>5.000000</td>\n",
       "      <td>1.00</td>\n",
       "      <td>0.0</td>\n",
       "      <td>2</td>\n",
       "      <td>True</td>\n",
       "      <td>0.0</td>\n",
       "      <td>1</td>\n",
       "      <td>127</td>\n",
       "      <td>0</td>\n",
       "      <td>0</td>\n",
       "      <td>0</td>\n",
       "      <td>0</td>\n",
       "      <td>0</td>\n",
       "      <td>0</td>\n",
       "    </tr>\n",
       "    <tr>\n",
       "      <th>2</th>\n",
       "      <td>21.50</td>\n",
       "      <td>4.0</td>\n",
       "      <td>4.601697</td>\n",
       "      <td>1.00</td>\n",
       "      <td>0.0</td>\n",
       "      <td>1</td>\n",
       "      <td>True</td>\n",
       "      <td>100.0</td>\n",
       "      <td>1</td>\n",
       "      <td>150</td>\n",
       "      <td>0</td>\n",
       "      <td>1</td>\n",
       "      <td>0</td>\n",
       "      <td>0</td>\n",
       "      <td>1</td>\n",
       "      <td>1</td>\n",
       "    </tr>\n",
       "    <tr>\n",
       "      <th>3</th>\n",
       "      <td>9.46</td>\n",
       "      <td>5.0</td>\n",
       "      <td>4.601697</td>\n",
       "      <td>2.75</td>\n",
       "      <td>100.0</td>\n",
       "      <td>1</td>\n",
       "      <td>False</td>\n",
       "      <td>100.0</td>\n",
       "      <td>1</td>\n",
       "      <td>143</td>\n",
       "      <td>0</td>\n",
       "      <td>1</td>\n",
       "      <td>0</td>\n",
       "      <td>0</td>\n",
       "      <td>1</td>\n",
       "      <td>0</td>\n",
       "    </tr>\n",
       "    <tr>\n",
       "      <th>4</th>\n",
       "      <td>13.77</td>\n",
       "      <td>5.0</td>\n",
       "      <td>4.601697</td>\n",
       "      <td>1.00</td>\n",
       "      <td>0.0</td>\n",
       "      <td>0</td>\n",
       "      <td>False</td>\n",
       "      <td>100.0</td>\n",
       "      <td>1</td>\n",
       "      <td>121</td>\n",
       "      <td>0</td>\n",
       "      <td>1</td>\n",
       "      <td>0</td>\n",
       "      <td>0</td>\n",
       "      <td>1</td>\n",
       "      <td>1</td>\n",
       "    </tr>\n",
       "  </tbody>\n",
       "</table>\n",
       "</div>"
      ],
      "text/plain": [
       "   avg_dist  avg_rating_by_driver  avg_rating_of_driver  avg_surge  surge_pct  \\\n",
       "0      6.94                   5.0              5.000000       1.00        0.0   \n",
       "1      8.06                   5.0              5.000000       1.00        0.0   \n",
       "2     21.50                   4.0              4.601697       1.00        0.0   \n",
       "3      9.46                   5.0              4.601697       2.75      100.0   \n",
       "4     13.77                   5.0              4.601697       1.00        0.0   \n",
       "\n",
       "   trips_in_first_30_days  luxury_car_user  weekday_pct  churn  recent  \\\n",
       "0                       0            False        100.0      1     140   \n",
       "1                       2             True          0.0      1     127   \n",
       "2                       1             True        100.0      1     150   \n",
       "3                       1            False        100.0      1     143   \n",
       "4                       0            False        100.0      1     121   \n",
       "\n",
       "   filled_by_driver  filled_of_driver  phone_fill  city_King's Landing  \\\n",
       "0                 0                 0           0                    0   \n",
       "1                 0                 0           0                    0   \n",
       "2                 0                 1           0                    0   \n",
       "3                 0                 1           0                    0   \n",
       "4                 0                 1           0                    0   \n",
       "\n",
       "   city_Winterfell  phone_iPhone  \n",
       "0                0             0  \n",
       "1                0             0  \n",
       "2                1             1  \n",
       "3                1             0  \n",
       "4                1             1  "
      ]
     },
     "execution_count": 139,
     "metadata": {},
     "output_type": "execute_result"
    }
   ],
   "source": [
    "df = (pd.read_csv('data/churn_train.csv')\n",
    "      .pipe(get_labels)\n",
    "      .pipe(fill_na)\n",
    "     .pipe(remove_error)\n",
    "     .drop(['signup_date','last_trip_date'],axis=1))\n",
    "df.head()"
   ]
  },
  {
   "cell_type": "code",
   "execution_count": 56,
   "metadata": {},
   "outputs": [
    {
     "name": "stdout",
     "output_type": "stream",
     "text": [
      "<class 'pandas.core.frame.DataFrame'>\n",
      "Int64Index: 39921 entries, 0 to 39999\n",
      "Data columns (total 12 columns):\n",
      "avg_dist                  39921 non-null float64\n",
      "avg_rating_by_driver      39921 non-null float64\n",
      "avg_rating_of_driver      39921 non-null float64\n",
      "avg_surge                 39921 non-null float64\n",
      "city                      39921 non-null object\n",
      "phone                     39921 non-null object\n",
      "surge_pct                 39921 non-null float64\n",
      "trips_in_first_30_days    39921 non-null int64\n",
      "luxury_car_user           39921 non-null bool\n",
      "weekday_pct               39921 non-null float64\n",
      "churn                     39921 non-null int64\n",
      "recent                    39921 non-null int64\n",
      "dtypes: bool(1), float64(6), int64(3), object(2)\n",
      "memory usage: 3.7+ MB\n"
     ]
    }
   ],
   "source": [
    "df.info()"
   ]
  },
  {
   "cell_type": "code",
   "execution_count": 54,
   "metadata": {},
   "outputs": [
    {
     "data": {
      "text/html": [
       "<div>\n",
       "<style>\n",
       "    .dataframe thead tr:only-child th {\n",
       "        text-align: right;\n",
       "    }\n",
       "\n",
       "    .dataframe thead th {\n",
       "        text-align: left;\n",
       "    }\n",
       "\n",
       "    .dataframe tbody tr th {\n",
       "        vertical-align: top;\n",
       "    }\n",
       "</style>\n",
       "<table border=\"1\" class=\"dataframe\">\n",
       "  <thead>\n",
       "    <tr style=\"text-align: right;\">\n",
       "      <th></th>\n",
       "      <th>count</th>\n",
       "      <th>mean</th>\n",
       "      <th>std</th>\n",
       "      <th>min</th>\n",
       "      <th>25%</th>\n",
       "      <th>50%</th>\n",
       "      <th>75%</th>\n",
       "      <th>max</th>\n",
       "    </tr>\n",
       "  </thead>\n",
       "  <tbody>\n",
       "    <tr>\n",
       "      <th>avg_dist</th>\n",
       "      <td>39921.0</td>\n",
       "      <td>5.802762</td>\n",
       "      <td>5.707879</td>\n",
       "      <td>0.0</td>\n",
       "      <td>2.43</td>\n",
       "      <td>3.89</td>\n",
       "      <td>6.93</td>\n",
       "      <td>160.96</td>\n",
       "    </tr>\n",
       "    <tr>\n",
       "      <th>avg_rating_by_driver</th>\n",
       "      <td>39921.0</td>\n",
       "      <td>4.778571</td>\n",
       "      <td>0.442870</td>\n",
       "      <td>1.0</td>\n",
       "      <td>4.70</td>\n",
       "      <td>5.00</td>\n",
       "      <td>5.00</td>\n",
       "      <td>5.00</td>\n",
       "    </tr>\n",
       "    <tr>\n",
       "      <th>avg_rating_of_driver</th>\n",
       "      <td>39921.0</td>\n",
       "      <td>4.601969</td>\n",
       "      <td>0.561776</td>\n",
       "      <td>1.0</td>\n",
       "      <td>4.50</td>\n",
       "      <td>4.70</td>\n",
       "      <td>5.00</td>\n",
       "      <td>5.00</td>\n",
       "    </tr>\n",
       "    <tr>\n",
       "      <th>avg_surge</th>\n",
       "      <td>39921.0</td>\n",
       "      <td>1.074998</td>\n",
       "      <td>0.222274</td>\n",
       "      <td>1.0</td>\n",
       "      <td>1.00</td>\n",
       "      <td>1.00</td>\n",
       "      <td>1.05</td>\n",
       "      <td>8.00</td>\n",
       "    </tr>\n",
       "    <tr>\n",
       "      <th>surge_pct</th>\n",
       "      <td>39921.0</td>\n",
       "      <td>8.867356</td>\n",
       "      <td>20.014482</td>\n",
       "      <td>0.0</td>\n",
       "      <td>0.00</td>\n",
       "      <td>0.00</td>\n",
       "      <td>8.50</td>\n",
       "      <td>100.00</td>\n",
       "    </tr>\n",
       "    <tr>\n",
       "      <th>trips_in_first_30_days</th>\n",
       "      <td>39921.0</td>\n",
       "      <td>2.283184</td>\n",
       "      <td>3.814642</td>\n",
       "      <td>0.0</td>\n",
       "      <td>0.00</td>\n",
       "      <td>1.00</td>\n",
       "      <td>3.00</td>\n",
       "      <td>125.00</td>\n",
       "    </tr>\n",
       "    <tr>\n",
       "      <th>weekday_pct</th>\n",
       "      <td>39921.0</td>\n",
       "      <td>60.877115</td>\n",
       "      <td>37.061966</td>\n",
       "      <td>0.0</td>\n",
       "      <td>33.30</td>\n",
       "      <td>66.70</td>\n",
       "      <td>100.00</td>\n",
       "      <td>100.00</td>\n",
       "    </tr>\n",
       "    <tr>\n",
       "      <th>churn</th>\n",
       "      <td>39921.0</td>\n",
       "      <td>0.623531</td>\n",
       "      <td>0.484506</td>\n",
       "      <td>0.0</td>\n",
       "      <td>0.00</td>\n",
       "      <td>1.00</td>\n",
       "      <td>1.00</td>\n",
       "      <td>1.00</td>\n",
       "    </tr>\n",
       "    <tr>\n",
       "      <th>recent</th>\n",
       "      <td>39921.0</td>\n",
       "      <td>135.460209</td>\n",
       "      <td>8.750126</td>\n",
       "      <td>121.0</td>\n",
       "      <td>128.00</td>\n",
       "      <td>135.00</td>\n",
       "      <td>143.00</td>\n",
       "      <td>151.00</td>\n",
       "    </tr>\n",
       "  </tbody>\n",
       "</table>\n",
       "</div>"
      ],
      "text/plain": [
       "                          count        mean        std    min     25%     50%  \\\n",
       "avg_dist                39921.0    5.802762   5.707879    0.0    2.43    3.89   \n",
       "avg_rating_by_driver    39921.0    4.778571   0.442870    1.0    4.70    5.00   \n",
       "avg_rating_of_driver    39921.0    4.601969   0.561776    1.0    4.50    4.70   \n",
       "avg_surge               39921.0    1.074998   0.222274    1.0    1.00    1.00   \n",
       "surge_pct               39921.0    8.867356  20.014482    0.0    0.00    0.00   \n",
       "trips_in_first_30_days  39921.0    2.283184   3.814642    0.0    0.00    1.00   \n",
       "weekday_pct             39921.0   60.877115  37.061966    0.0   33.30   66.70   \n",
       "churn                   39921.0    0.623531   0.484506    0.0    0.00    1.00   \n",
       "recent                  39921.0  135.460209   8.750126  121.0  128.00  135.00   \n",
       "\n",
       "                           75%     max  \n",
       "avg_dist                  6.93  160.96  \n",
       "avg_rating_by_driver      5.00    5.00  \n",
       "avg_rating_of_driver      5.00    5.00  \n",
       "avg_surge                 1.05    8.00  \n",
       "surge_pct                 8.50  100.00  \n",
       "trips_in_first_30_days    3.00  125.00  \n",
       "weekday_pct             100.00  100.00  \n",
       "churn                     1.00    1.00  \n",
       "recent                  143.00  151.00  "
      ]
     },
     "execution_count": 54,
     "metadata": {},
     "output_type": "execute_result"
    }
   ],
   "source": [
    "df.describe().T"
   ]
  },
  {
   "cell_type": "markdown",
   "metadata": {},
   "source": [
    "# Exploring continuous variables"
   ]
  },
  {
   "cell_type": "code",
   "execution_count": 72,
   "metadata": {},
   "outputs": [
    {
     "data": {
      "image/png": "[encoded data removed]",
      "text/plain": [
       "<matplotlib.figure.Figure at 0x11ffd1a90>"
      ]
     },
     "metadata": {},
     "output_type": "display_data"
    }
   ],
   "source": [
    "fig = plt.figure(figsize = (20,20))\n",
    "index = 0\n",
    "columns = ['avg_dist', 'avg_rating_by_driver', 'avg_rating_of_driver', 'avg_surge', 'surge_pct', 'trips_in_first_30_days', 'weekday_pct','recent']\n",
    "for column in columns:\n",
    "        index += 1\n",
    "        ax = fig.add_subplot(2,4,index)\n",
    "        sns.boxplot(df['churn'],df[column])\n",
    "plt.show()\n"
   ]
  },
  {
   "cell_type": "markdown",
   "metadata": {},
   "source": [
    "The only interesting points are churn against weekday_pct"
   ]
  },
  {
   "cell_type": "code",
   "execution_count": 77,
   "metadata": {},
   "outputs": [
    {
     "data": {
      "image/png": "[encoded data removed]",
      "text/plain": [
       "<matplotlib.figure.Figure at 0x11d3b8150>"
      ]
     },
     "metadata": {},
     "output_type": "display_data"
    }
   ],
   "source": [
    "df.hist(figsize=(20,20), bins=20)\n",
    "plt.show()"
   ]
  },
  {
   "cell_type": "markdown",
   "metadata": {},
   "source": [
    "See how our varialbes are distributed"
   ]
  },
  {
   "cell_type": "code",
   "execution_count": 82,
   "metadata": {},
   "outputs": [
    {
     "data": {
      "text/html": [
       "<div>\n",
       "<style>\n",
       "    .dataframe thead tr:only-child th {\n",
       "        text-align: right;\n",
       "    }\n",
       "\n",
       "    .dataframe thead th {\n",
       "        text-align: left;\n",
       "    }\n",
       "\n",
       "    .dataframe tbody tr th {\n",
       "        vertical-align: top;\n",
       "    }\n",
       "</style>\n",
       "<table border=\"1\" class=\"dataframe\">\n",
       "  <thead>\n",
       "    <tr style=\"text-align: right;\">\n",
       "      <th></th>\n",
       "      <th>avg_dist</th>\n",
       "      <th>avg_rating_by_driver</th>\n",
       "      <th>avg_rating_of_driver</th>\n",
       "      <th>avg_surge</th>\n",
       "      <th>surge_pct</th>\n",
       "      <th>trips_in_first_30_days</th>\n",
       "      <th>luxury_car_user</th>\n",
       "      <th>weekday_pct</th>\n",
       "      <th>churn</th>\n",
       "      <th>recent</th>\n",
       "    </tr>\n",
       "  </thead>\n",
       "  <tbody>\n",
       "    <tr>\n",
       "      <th>avg_dist</th>\n",
       "      <td>1.000000</td>\n",
       "      <td>0.079725</td>\n",
       "      <td>0.030053</td>\n",
       "      <td>-0.079894</td>\n",
       "      <td>-0.103061</td>\n",
       "      <td>-0.136042</td>\n",
       "      <td>0.024780</td>\n",
       "      <td>0.097639</td>\n",
       "      <td>0.094928</td>\n",
       "      <td>-0.017205</td>\n",
       "    </tr>\n",
       "    <tr>\n",
       "      <th>avg_rating_by_driver</th>\n",
       "      <td>0.079725</td>\n",
       "      <td>1.000000</td>\n",
       "      <td>0.097345</td>\n",
       "      <td>0.008293</td>\n",
       "      <td>0.018731</td>\n",
       "      <td>-0.040560</td>\n",
       "      <td>0.009221</td>\n",
       "      <td>0.020196</td>\n",
       "      <td>0.029801</td>\n",
       "      <td>-0.000504</td>\n",
       "    </tr>\n",
       "    <tr>\n",
       "      <th>avg_rating_of_driver</th>\n",
       "      <td>0.030053</td>\n",
       "      <td>0.097345</td>\n",
       "      <td>1.000000</td>\n",
       "      <td>-0.027999</td>\n",
       "      <td>-0.008978</td>\n",
       "      <td>-0.013624</td>\n",
       "      <td>0.001152</td>\n",
       "      <td>0.010361</td>\n",
       "      <td>0.012465</td>\n",
       "      <td>-0.007151</td>\n",
       "    </tr>\n",
       "    <tr>\n",
       "      <th>avg_surge</th>\n",
       "      <td>-0.079894</td>\n",
       "      <td>0.008293</td>\n",
       "      <td>-0.027999</td>\n",
       "      <td>1.000000</td>\n",
       "      <td>0.793590</td>\n",
       "      <td>-0.001913</td>\n",
       "      <td>-0.075889</td>\n",
       "      <td>-0.113134</td>\n",
       "      <td>0.003421</td>\n",
       "      <td>0.008897</td>\n",
       "    </tr>\n",
       "    <tr>\n",
       "      <th>surge_pct</th>\n",
       "      <td>-0.103061</td>\n",
       "      <td>0.018731</td>\n",
       "      <td>-0.008978</td>\n",
       "      <td>0.793590</td>\n",
       "      <td>1.000000</td>\n",
       "      <td>0.004556</td>\n",
       "      <td>-0.104146</td>\n",
       "      <td>-0.148122</td>\n",
       "      <td>-0.010991</td>\n",
       "      <td>0.001587</td>\n",
       "    </tr>\n",
       "    <tr>\n",
       "      <th>trips_in_first_30_days</th>\n",
       "      <td>-0.136042</td>\n",
       "      <td>-0.040560</td>\n",
       "      <td>-0.013624</td>\n",
       "      <td>-0.001913</td>\n",
       "      <td>0.004556</td>\n",
       "      <td>1.000000</td>\n",
       "      <td>0.114472</td>\n",
       "      <td>0.049802</td>\n",
       "      <td>-0.210353</td>\n",
       "      <td>-0.014487</td>\n",
       "    </tr>\n",
       "    <tr>\n",
       "      <th>luxury_car_user</th>\n",
       "      <td>0.024780</td>\n",
       "      <td>0.009221</td>\n",
       "      <td>0.001152</td>\n",
       "      <td>-0.075889</td>\n",
       "      <td>-0.104146</td>\n",
       "      <td>0.114472</td>\n",
       "      <td>1.000000</td>\n",
       "      <td>0.033848</td>\n",
       "      <td>-0.206363</td>\n",
       "      <td>0.004152</td>\n",
       "    </tr>\n",
       "    <tr>\n",
       "      <th>weekday_pct</th>\n",
       "      <td>0.097639</td>\n",
       "      <td>0.020196</td>\n",
       "      <td>0.010361</td>\n",
       "      <td>-0.113134</td>\n",
       "      <td>-0.148122</td>\n",
       "      <td>0.049802</td>\n",
       "      <td>0.033848</td>\n",
       "      <td>1.000000</td>\n",
       "      <td>-0.008321</td>\n",
       "      <td>-0.003754</td>\n",
       "    </tr>\n",
       "    <tr>\n",
       "      <th>churn</th>\n",
       "      <td>0.094928</td>\n",
       "      <td>0.029801</td>\n",
       "      <td>0.012465</td>\n",
       "      <td>0.003421</td>\n",
       "      <td>-0.010991</td>\n",
       "      <td>-0.210353</td>\n",
       "      <td>-0.206363</td>\n",
       "      <td>-0.008321</td>\n",
       "      <td>1.000000</td>\n",
       "      <td>-0.019272</td>\n",
       "    </tr>\n",
       "    <tr>\n",
       "      <th>recent</th>\n",
       "      <td>-0.017205</td>\n",
       "      <td>-0.000504</td>\n",
       "      <td>-0.007151</td>\n",
       "      <td>0.008897</td>\n",
       "      <td>0.001587</td>\n",
       "      <td>-0.014487</td>\n",
       "      <td>0.004152</td>\n",
       "      <td>-0.003754</td>\n",
       "      <td>-0.019272</td>\n",
       "      <td>1.000000</td>\n",
       "    </tr>\n",
       "  </tbody>\n",
       "</table>\n",
       "</div>"
      ],
      "text/plain": [
       "                        avg_dist  avg_rating_by_driver  avg_rating_of_driver  \\\n",
       "avg_dist                1.000000              0.079725              0.030053   \n",
       "avg_rating_by_driver    0.079725              1.000000              0.097345   \n",
       "avg_rating_of_driver    0.030053              0.097345              1.000000   \n",
       "avg_surge              -0.079894              0.008293             -0.027999   \n",
       "surge_pct              -0.103061              0.018731             -0.008978   \n",
       "trips_in_first_30_days -0.136042             -0.040560             -0.013624   \n",
       "luxury_car_user         0.024780              0.009221              0.001152   \n",
       "weekday_pct             0.097639              0.020196              0.010361   \n",
       "churn                   0.094928              0.029801              0.012465   \n",
       "recent                 -0.017205             -0.000504             -0.007151   \n",
       "\n",
       "                        avg_surge  surge_pct  trips_in_first_30_days  \\\n",
       "avg_dist                -0.079894  -0.103061               -0.136042   \n",
       "avg_rating_by_driver     0.008293   0.018731               -0.040560   \n",
       "avg_rating_of_driver    -0.027999  -0.008978               -0.013624   \n",
       "avg_surge                1.000000   0.793590               -0.001913   \n",
       "surge_pct                0.793590   1.000000                0.004556   \n",
       "trips_in_first_30_days  -0.001913   0.004556                1.000000   \n",
       "luxury_car_user         -0.075889  -0.104146                0.114472   \n",
       "weekday_pct             -0.113134  -0.148122                0.049802   \n",
       "churn                    0.003421  -0.010991               -0.210353   \n",
       "recent                   0.008897   0.001587               -0.014487   \n",
       "\n",
       "                        luxury_car_user  weekday_pct     churn    recent  \n",
       "avg_dist                       0.024780     0.097639  0.094928 -0.017205  \n",
       "avg_rating_by_driver           0.009221     0.020196  0.029801 -0.000504  \n",
       "avg_rating_of_driver           0.001152     0.010361  0.012465 -0.007151  \n",
       "avg_surge                     -0.075889    -0.113134  0.003421  0.008897  \n",
       "surge_pct                     -0.104146    -0.148122 -0.010991  0.001587  \n",
       "trips_in_first_30_days         0.114472     0.049802 -0.210353 -0.014487  \n",
       "luxury_car_user                1.000000     0.033848 -0.206363  0.004152  \n",
       "weekday_pct                    0.033848     1.000000 -0.008321 -0.003754  \n",
       "churn                         -0.206363    -0.008321  1.000000 -0.019272  \n",
       "recent                         0.004152    -0.003754 -0.019272  1.000000  "
      ]
     },
     "execution_count": 82,
     "metadata": {},
     "output_type": "execute_result"
    }
   ],
   "source": [
    "df.corr()"
   ]
  },
  {
   "cell_type": "markdown",
   "metadata": {},
   "source": [
    "We notice luxury_car_user and trips_in_first_30_days contain the highest correlation against churn. Although the values we observed here are continuous variables, it would make much more sense if we made them categorical."
   ]
  },
  {
   "cell_type": "markdown",
   "metadata": {},
   "source": [
    "# Exploring Categorical"
   ]
  },
  {
   "cell_type": "code",
   "execution_count": 91,
   "metadata": {
    "collapsed": true
   },
   "outputs": [],
   "source": [
    "def convert_weekday(row):\n",
    "    if row['weekday_pct'] == 0:\n",
    "        return 'only_weekend'\n",
    "    elif row['weekday_pct'] == 100:\n",
    "        return 'all_weekdays' \n",
    "    else:\n",
    "        return 'in_between'"
   ]
  },
  {
   "cell_type": "code",
   "execution_count": 96,
   "metadata": {
    "collapsed": true
   },
   "outputs": [],
   "source": [
    "df['weekday'] = df.apply(convert_weekday,axis=1)"
   ]
  },
  {
   "cell_type": "code",
   "execution_count": 97,
   "metadata": {
    "collapsed": true
   },
   "outputs": [],
   "source": [
    "df['30_days'] = df['trips_in_first_30_days'] > 0"
   ]
  },
  {
   "cell_type": "code",
   "execution_count": 98,
   "metadata": {},
   "outputs": [
    {
     "name": "stdout",
     "output_type": "stream",
     "text": [
      "<class 'pandas.core.frame.DataFrame'>\n",
      "Int64Index: 39921 entries, 0 to 39999\n",
      "Data columns (total 16 columns):\n",
      "avg_dist                  39921 non-null float64\n",
      "avg_rating_by_driver      39921 non-null float64\n",
      "avg_rating_of_driver      39921 non-null float64\n",
      "avg_surge                 39921 non-null float64\n",
      "city                      39921 non-null object\n",
      "phone                     39921 non-null object\n",
      "surge_pct                 39921 non-null float64\n",
      "trips_in_first_30_days    39921 non-null int64\n",
      "luxury_car_user           39921 non-null bool\n",
      "weekday_pct               39921 non-null float64\n",
      "churn                     39921 non-null int64\n",
      "recent                    39921 non-null int64\n",
      "weekend_only              39921 non-null bool\n",
      "weekday_only              39921 non-null bool\n",
      "weekday                   39921 non-null object\n",
      "30_days                   39921 non-null bool\n",
      "dtypes: bool(4), float64(6), int64(3), object(3)\n",
      "memory usage: 5.4+ MB\n"
     ]
    }
   ],
   "source": [
    "df.info()"
   ]
  },
  {
   "cell_type": "code",
   "execution_count": 99,
   "metadata": {},
   "outputs": [
    {
     "data": {
      "image/png": "[encoded data removed]",
      "text/plain": [
       "<matplotlib.figure.Figure at 0x1171a3190>"
      ]
     },
     "metadata": {},
     "output_type": "display_data"
    }
   ],
   "source": [
    "fig = plt.figure(figsize = (20,5))\n",
    "index = 0\n",
    "columns = ['weekday','30_days', 'city', 'phone', 'luxury_car_user']\n",
    "for column in columns:\n",
    "    index += 1\n",
    "    ax = fig.add_subplot(1,5, index)\n",
    "    sns.barplot(x = column, y = \"churn\", data = df,ax=ax)\n",
    "plt.show()"
   ]
  },
  {
   "cell_type": "markdown",
   "metadata": {},
   "source": [
    "from this plot we notice drivers who drive paritially on weekends and weekdays don't churn as much, similary non-luxury cars, android users, and people from King's landing are less likely to churn"
   ]
  },
  {
   "cell_type": "markdown",
   "metadata": {},
   "source": [
    "# We further explore our data with the help of RandomForest selectors"
   ]
  },
  {
   "cell_type": "code",
   "execution_count": 103,
   "metadata": {
    "collapsed": true
   },
   "outputs": [],
   "source": [
    "df = pd.get_dummies(df,drop_first=True)"
   ]
  },
  {
   "cell_type": "code",
   "execution_count": 105,
   "metadata": {
    "collapsed": true
   },
   "outputs": [],
   "source": [
    "rand_f = RandomForestClassifier()"
   ]
  },
  {
   "cell_type": "code",
   "execution_count": 108,
   "metadata": {},
   "outputs": [
    {
     "data": {
      "text/html": [
       "<div>\n",
       "<style>\n",
       "    .dataframe thead tr:only-child th {\n",
       "        text-align: right;\n",
       "    }\n",
       "\n",
       "    .dataframe thead th {\n",
       "        text-align: left;\n",
       "    }\n",
       "\n",
       "    .dataframe tbody tr th {\n",
       "        vertical-align: top;\n",
       "    }\n",
       "</style>\n",
       "<table border=\"1\" class=\"dataframe\">\n",
       "  <thead>\n",
       "    <tr style=\"text-align: right;\">\n",
       "      <th></th>\n",
       "      <th>avg_dist</th>\n",
       "      <th>avg_rating_by_driver</th>\n",
       "      <th>avg_rating_of_driver</th>\n",
       "      <th>avg_surge</th>\n",
       "      <th>surge_pct</th>\n",
       "      <th>trips_in_first_30_days</th>\n",
       "      <th>luxury_car_user</th>\n",
       "      <th>weekday_pct</th>\n",
       "      <th>recent</th>\n",
       "      <th>weekend_only</th>\n",
       "      <th>weekday_only</th>\n",
       "      <th>30_days</th>\n",
       "      <th>city_King's Landing</th>\n",
       "      <th>city_Winterfell</th>\n",
       "      <th>phone_iPhone</th>\n",
       "      <th>weekday_in_between</th>\n",
       "      <th>weekday_only_weekend</th>\n",
       "    </tr>\n",
       "  </thead>\n",
       "  <tbody>\n",
       "    <tr>\n",
       "      <th>0</th>\n",
       "      <td>6.94</td>\n",
       "      <td>5.0</td>\n",
       "      <td>5.000000</td>\n",
       "      <td>1.00</td>\n",
       "      <td>0.0</td>\n",
       "      <td>0</td>\n",
       "      <td>False</td>\n",
       "      <td>100.0</td>\n",
       "      <td>140</td>\n",
       "      <td>True</td>\n",
       "      <td>True</td>\n",
       "      <td>False</td>\n",
       "      <td>0</td>\n",
       "      <td>0</td>\n",
       "      <td>0</td>\n",
       "      <td>0</td>\n",
       "      <td>0</td>\n",
       "    </tr>\n",
       "    <tr>\n",
       "      <th>1</th>\n",
       "      <td>8.06</td>\n",
       "      <td>5.0</td>\n",
       "      <td>5.000000</td>\n",
       "      <td>1.00</td>\n",
       "      <td>0.0</td>\n",
       "      <td>2</td>\n",
       "      <td>True</td>\n",
       "      <td>0.0</td>\n",
       "      <td>127</td>\n",
       "      <td>False</td>\n",
       "      <td>False</td>\n",
       "      <td>True</td>\n",
       "      <td>0</td>\n",
       "      <td>0</td>\n",
       "      <td>0</td>\n",
       "      <td>0</td>\n",
       "      <td>1</td>\n",
       "    </tr>\n",
       "    <tr>\n",
       "      <th>2</th>\n",
       "      <td>21.50</td>\n",
       "      <td>4.0</td>\n",
       "      <td>4.601697</td>\n",
       "      <td>1.00</td>\n",
       "      <td>0.0</td>\n",
       "      <td>1</td>\n",
       "      <td>True</td>\n",
       "      <td>100.0</td>\n",
       "      <td>150</td>\n",
       "      <td>True</td>\n",
       "      <td>True</td>\n",
       "      <td>True</td>\n",
       "      <td>0</td>\n",
       "      <td>1</td>\n",
       "      <td>1</td>\n",
       "      <td>0</td>\n",
       "      <td>0</td>\n",
       "    </tr>\n",
       "    <tr>\n",
       "      <th>3</th>\n",
       "      <td>9.46</td>\n",
       "      <td>5.0</td>\n",
       "      <td>4.601697</td>\n",
       "      <td>2.75</td>\n",
       "      <td>100.0</td>\n",
       "      <td>1</td>\n",
       "      <td>False</td>\n",
       "      <td>100.0</td>\n",
       "      <td>143</td>\n",
       "      <td>True</td>\n",
       "      <td>True</td>\n",
       "      <td>True</td>\n",
       "      <td>0</td>\n",
       "      <td>1</td>\n",
       "      <td>0</td>\n",
       "      <td>0</td>\n",
       "      <td>0</td>\n",
       "    </tr>\n",
       "    <tr>\n",
       "      <th>4</th>\n",
       "      <td>13.77</td>\n",
       "      <td>5.0</td>\n",
       "      <td>4.601697</td>\n",
       "      <td>1.00</td>\n",
       "      <td>0.0</td>\n",
       "      <td>0</td>\n",
       "      <td>False</td>\n",
       "      <td>100.0</td>\n",
       "      <td>121</td>\n",
       "      <td>True</td>\n",
       "      <td>True</td>\n",
       "      <td>False</td>\n",
       "      <td>0</td>\n",
       "      <td>1</td>\n",
       "      <td>1</td>\n",
       "      <td>0</td>\n",
       "      <td>0</td>\n",
       "    </tr>\n",
       "  </tbody>\n",
       "</table>\n",
       "</div>"
      ],
      "text/plain": [
       "   avg_dist  avg_rating_by_driver  avg_rating_of_driver  avg_surge  surge_pct  \\\n",
       "0      6.94                   5.0              5.000000       1.00        0.0   \n",
       "1      8.06                   5.0              5.000000       1.00        0.0   \n",
       "2     21.50                   4.0              4.601697       1.00        0.0   \n",
       "3      9.46                   5.0              4.601697       2.75      100.0   \n",
       "4     13.77                   5.0              4.601697       1.00        0.0   \n",
       "\n",
       "   trips_in_first_30_days  luxury_car_user  weekday_pct  recent  weekend_only  \\\n",
       "0                       0            False        100.0     140          True   \n",
       "1                       2             True          0.0     127         False   \n",
       "2                       1             True        100.0     150          True   \n",
       "3                       1            False        100.0     143          True   \n",
       "4                       0            False        100.0     121          True   \n",
       "\n",
       "   weekday_only  30_days  city_King's Landing  city_Winterfell  phone_iPhone  \\\n",
       "0          True    False                    0                0             0   \n",
       "1         False     True                    0                0             0   \n",
       "2          True     True                    0                1             1   \n",
       "3          True     True                    0                1             0   \n",
       "4          True    False                    0                1             1   \n",
       "\n",
       "   weekday_in_between  weekday_only_weekend  \n",
       "0                   0                     0  \n",
       "1                   0                     1  \n",
       "2                   0                     0  \n",
       "3                   0                     0  \n",
       "4                   0                     0  "
      ]
     },
     "execution_count": 108,
     "metadata": {},
     "output_type": "execute_result"
    }
   ],
   "source": [
    "df.head()"
   ]
  },
  {
   "cell_type": "code",
   "execution_count": 109,
   "metadata": {},
   "outputs": [
    {
     "data": {
      "text/plain": [
       "array([1, 1, 1, ..., 0, 1, 0])"
      ]
     },
     "execution_count": 109,
     "metadata": {},
     "output_type": "execute_result"
    }
   ],
   "source": [
    "y = df.pop('churn').values"
   ]
  },
  {
   "cell_type": "code",
   "execution_count": 128,
   "metadata": {
    "collapsed": true
   },
   "outputs": [],
   "source": [
    "df = df[['avg_dist','recent','avg_rating_by_driver','avg_rating_of_driver',\"city_King's Landing\",\n",
    "       'surge_pct','avg_surge','phone_iPhone', 'luxury_car_user',\n",
    "       'city_Winterfell','30_days','weekday_only_weekend','weekday_in_between']]"
   ]
  },
  {
   "cell_type": "code",
   "execution_count": 129,
   "metadata": {
    "collapsed": true
   },
   "outputs": [],
   "source": [
    "X = df.values"
   ]
  },
  {
   "cell_type": "code",
   "execution_count": 130,
   "metadata": {},
   "outputs": [
    {
     "data": {
      "text/plain": [
       "RandomForestClassifier(bootstrap=True, class_weight=None, criterion='gini',\n",
       "            max_depth=None, max_features='auto', max_leaf_nodes=None,\n",
       "            min_impurity_split=1e-07, min_samples_leaf=1,\n",
       "            min_samples_split=2, min_weight_fraction_leaf=0.0,\n",
       "            n_estimators=10, n_jobs=1, oob_score=False, random_state=None,\n",
       "            verbose=0, warm_start=False)"
      ]
     },
     "execution_count": 130,
     "metadata": {},
     "output_type": "execute_result"
    }
   ],
   "source": [
    "rand_f.fit(X,y)"
   ]
  },
  {
   "cell_type": "code",
   "execution_count": 131,
   "metadata": {},
   "outputs": [
    {
     "data": {
      "text/plain": [
       "[(0.25502005792684923, 'avg_dist'),\n",
       " (0.1589775436076469, u'recent'),\n",
       " (0.11760737420457704, 'avg_rating_by_driver'),\n",
       " (0.088047726239885118, 'surge_pct'),\n",
       " (0.083022589227516444, 'avg_rating_of_driver'),\n",
       " (0.061303814160641165, 'avg_surge'),\n",
       " (0.060588173658065472, \"city_King's Landing\"),\n",
       " (0.052565996609448794, u'weekday_in_between'),\n",
       " (0.037601212707734886, 'phone_iPhone'),\n",
       " (0.030715470102713298, 'luxury_car_user'),\n",
       " (0.024728590645943443, u'30_days'),\n",
       " (0.014918313094499969, u'weekday_only_weekend'),\n",
       " (0.014903137814478301, 'city_Winterfell')]"
      ]
     },
     "execution_count": 131,
     "metadata": {},
     "output_type": "execute_result"
    }
   ],
   "source": [
    "sorted(zip(rand_f.feature_importances_,df.columns),reverse=True)"
   ]
  },
  {
   "cell_type": "markdown",
   "metadata": {
    "collapsed": true
   },
   "source": [
    "# Conclusion\n",
    "\n",
    "From the categorical features we notice, users who only ride on weekends or weedays churn more often than users who seem to use it everyday. We also see users in kings landing are less likely to churn than other cities, and users with iphones churn slightly less. Possible explanations for this include, users who use the app on both weekdays and weekends uses the car-riding service as their primary form of transportation. People in King's Landing might require the app more, due to geographical reasons. The app might have better comptability with Iphone.\n",
    "\n",
    "When we include continuous features, average distance seems like a possible avenue to explore. From the histograms, there seems to be a lot of short average distances. One avenue to explore with more time, is to bin distances and create barplots for each bin, similar to what we did for weekday percentage"
   ]
  },
  {
   "cell_type": "code",
   "execution_count": null,
   "metadata": {
    "collapsed": true
   },
   "outputs": [],
   "source": []
  }
 ],
 "metadata": {
  "kernelspec": {
   "display_name": "Python 2",
   "language": "python",
   "name": "python2"
  },
  "language_info": {
   "codemirror_mode": {
    "name": "ipython",
    "version": 2
   },
   "file_extension": ".py",
   "mimetype": "text/x-python",
   "name": "python",
   "nbconvert_exporter": "python",
   "pygments_lexer": "ipython2",
   "version": "2.7.13"
  }
 },
 "nbformat": 4,
 "nbformat_minor": 2
}
